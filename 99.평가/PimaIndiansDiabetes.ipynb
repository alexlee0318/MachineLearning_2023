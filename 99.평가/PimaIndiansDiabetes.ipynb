{
 "cells": [
  {
   "attachments": {},
   "cell_type": "markdown",
   "metadata": {},
   "source": [
    "#### 피마 인디언 당뇨병 예측"
   ]
  },
  {
   "cell_type": "code",
   "execution_count": 106,
   "metadata": {},
   "outputs": [],
   "source": [
    "import numpy as np\n",
    "import pandas as pd"
   ]
  },
  {
   "cell_type": "code",
   "execution_count": 107,
   "metadata": {},
   "outputs": [
    {
     "data": {
      "text/html": [
       "<div>\n",
       "<style scoped>\n",
       "    .dataframe tbody tr th:only-of-type {\n",
       "        vertical-align: middle;\n",
       "    }\n",
       "\n",
       "    .dataframe tbody tr th {\n",
       "        vertical-align: top;\n",
       "    }\n",
       "\n",
       "    .dataframe thead th {\n",
       "        text-align: right;\n",
       "    }\n",
       "</style>\n",
       "<table border=\"1\" class=\"dataframe\">\n",
       "  <thead>\n",
       "    <tr style=\"text-align: right;\">\n",
       "      <th></th>\n",
       "      <th>P</th>\n",
       "      <th>G</th>\n",
       "      <th>BP</th>\n",
       "      <th>S</th>\n",
       "      <th>I</th>\n",
       "      <th>BMI</th>\n",
       "      <th>D</th>\n",
       "      <th>Age</th>\n",
       "      <th>Target</th>\n",
       "    </tr>\n",
       "  </thead>\n",
       "  <tbody>\n",
       "    <tr>\n",
       "      <th>0</th>\n",
       "      <td>6</td>\n",
       "      <td>148</td>\n",
       "      <td>72</td>\n",
       "      <td>35</td>\n",
       "      <td>0</td>\n",
       "      <td>33.6</td>\n",
       "      <td>0.627</td>\n",
       "      <td>50</td>\n",
       "      <td>1</td>\n",
       "    </tr>\n",
       "    <tr>\n",
       "      <th>1</th>\n",
       "      <td>1</td>\n",
       "      <td>85</td>\n",
       "      <td>66</td>\n",
       "      <td>29</td>\n",
       "      <td>0</td>\n",
       "      <td>26.6</td>\n",
       "      <td>0.351</td>\n",
       "      <td>31</td>\n",
       "      <td>0</td>\n",
       "    </tr>\n",
       "    <tr>\n",
       "      <th>2</th>\n",
       "      <td>8</td>\n",
       "      <td>183</td>\n",
       "      <td>64</td>\n",
       "      <td>0</td>\n",
       "      <td>0</td>\n",
       "      <td>23.3</td>\n",
       "      <td>0.672</td>\n",
       "      <td>32</td>\n",
       "      <td>1</td>\n",
       "    </tr>\n",
       "    <tr>\n",
       "      <th>3</th>\n",
       "      <td>1</td>\n",
       "      <td>89</td>\n",
       "      <td>66</td>\n",
       "      <td>23</td>\n",
       "      <td>94</td>\n",
       "      <td>28.1</td>\n",
       "      <td>0.167</td>\n",
       "      <td>21</td>\n",
       "      <td>0</td>\n",
       "    </tr>\n",
       "    <tr>\n",
       "      <th>4</th>\n",
       "      <td>0</td>\n",
       "      <td>137</td>\n",
       "      <td>40</td>\n",
       "      <td>35</td>\n",
       "      <td>168</td>\n",
       "      <td>43.1</td>\n",
       "      <td>2.288</td>\n",
       "      <td>33</td>\n",
       "      <td>1</td>\n",
       "    </tr>\n",
       "  </tbody>\n",
       "</table>\n",
       "</div>"
      ],
      "text/plain": [
       "   P    G  BP   S    I   BMI      D  Age  Target\n",
       "0  6  148  72  35    0  33.6  0.627   50       1\n",
       "1  1   85  66  29    0  26.6  0.351   31       0\n",
       "2  8  183  64   0    0  23.3  0.672   32       1\n",
       "3  1   89  66  23   94  28.1  0.167   21       0\n",
       "4  0  137  40  35  168  43.1  2.288   33       1"
      ]
     },
     "execution_count": 107,
     "metadata": {},
     "output_type": "execute_result"
    }
   ],
   "source": [
    "df = pd.read_csv('pima-indians-diabetes.csv', skiprows=9, header=None)\n",
    "df.columns = ['P','G','BP','S','I','BMI','D','Age','Target']\n",
    "df.head()"
   ]
  },
  {
   "cell_type": "code",
   "execution_count": 108,
   "metadata": {},
   "outputs": [],
   "source": [
    "# X, y데이터를 ndarray로 추출- 대부분의 CSV에 적용 가능(일반적 방법)\n",
    "X = df.iloc[:, :-1].values\n",
    "y = df.iloc[:, -1].values"
   ]
  },
  {
   "attachments": {},
   "cell_type": "markdown",
   "metadata": {},
   "source": [
    "``` \n",
    "1. 각 Feature의 최소값이 0, 최대값이 1이 되도록 MinMaxScaler를 사용하여 변환하세요.(10)\n",
    "```"
   ]
  },
  {
   "cell_type": "code",
   "execution_count": 109,
   "metadata": {},
   "outputs": [],
   "source": [
    "from sklearn.linear_model import LogisticRegression\n",
    "from sklearn.model_selection import train_test_split\n",
    "from sklearn.preprocessing import MinMaxScaler"
   ]
  },
  {
   "cell_type": "code",
   "execution_count": 110,
   "metadata": {},
   "outputs": [
    {
     "name": "stdout",
     "output_type": "stream",
     "text": [
      "0.0 1.0\n",
      "0.0 1.0\n",
      "0.0 1.0\n",
      "0.0 1.0\n"
     ]
    }
   ],
   "source": [
    "df_mm = MinMaxScaler().fit_transform(X)\n",
    "\n",
    "for i in range(4):\n",
    "  print(df_mm[:,i].min(), df_mm[:,i].max())"
   ]
  },
  {
   "attachments": {},
   "cell_type": "markdown",
   "metadata": {},
   "source": [
    "```\n",
    "2. SVC, KNN, Logistic Regression을 소프트 보팅 방식으로 앙상블 학습을 하되,   SVC의 C 파라메터와 LR의 C 파라메터를 최적화해서 분류를 시도하세요.(20)\n",
    "```"
   ]
  },
  {
   "cell_type": "code",
   "execution_count": 111,
   "metadata": {},
   "outputs": [
    {
     "data": {
      "text/plain": [
       "0.7532467532467533"
      ]
     },
     "execution_count": 111,
     "metadata": {},
     "output_type": "execute_result"
    }
   ],
   "source": [
    "from sklearn.linear_model import LogisticRegression\n",
    "from sklearn.svm import SVC\n",
    "from sklearn.neighbors import KNeighborsClassifier\n",
    "from sklearn.ensemble import VotingClassifier\n",
    "\n",
    "from sklearn.model_selection import train_test_split\n",
    "X_train, X_test, y_train, y_test = train_test_split(\n",
    "    df_mm, y, stratify=y, test_size=0.1, random_state=2023  #\n",
    ")\n",
    "\n",
    "lrc = LogisticRegression(random_state=2023)\n",
    "svc = SVC(probability=True, random_state=2023).fit(X_train, y_train)\n",
    "knn = KNeighborsClassifier()\n",
    "\n",
    "#soft voting\n",
    "from sklearn.ensemble import VotingClassifier\n",
    "voc = VotingClassifier(\n",
    "    estimators=[('LRC', lrc), ('SVC', svc), ('KNN', knn)],\n",
    "    voting='soft'\n",
    ")\n",
    "\n",
    "voc.fit(X_train, y_train)\n",
    "voc.score(X_test, y_test)"
   ]
  },
  {
   "cell_type": "code",
   "execution_count": 112,
   "metadata": {},
   "outputs": [
    {
     "data": {
      "text/plain": [
       "array([[0.95286143, 0.04713857],\n",
       "       [0.32132646, 0.67867354],\n",
       "       [0.49972367, 0.50027633]])"
      ]
     },
     "execution_count": 112,
     "metadata": {},
     "output_type": "execute_result"
    }
   ],
   "source": [
    "voc.predict_proba(X_test[:3])"
   ]
  },
  {
   "cell_type": "code",
   "execution_count": 113,
   "metadata": {},
   "outputs": [
    {
     "data": {
      "text/plain": [
       "{'LRC__C': 1, 'SVC__C': 1}"
      ]
     },
     "execution_count": 113,
     "metadata": {},
     "output_type": "execute_result"
    }
   ],
   "source": [
    "# 분류 - SVC의 C, LR의 C 파라메터를 최적화\n",
    "params = {\n",
    "    'LRC__C': [0.1, 1, 10],\n",
    "    'SVC__C': [0.1, 1, 10]\n",
    "}\n",
    "from sklearn.model_selection import GridSearchCV\n",
    "grid_voc = GridSearchCV(voc, params, scoring='accuracy', cv=5)\n",
    "grid_voc.fit(X_train, y_train)\n",
    "grid_voc.best_params_"
   ]
  },
  {
   "cell_type": "code",
   "execution_count": 114,
   "metadata": {},
   "outputs": [
    {
     "data": {
      "text/plain": [
       "0.7532467532467533"
      ]
     },
     "execution_count": 114,
     "metadata": {},
     "output_type": "execute_result"
    }
   ],
   "source": [
    "grid_voc.best_estimator_.score(X_test, y_test)"
   ]
  },
  {
   "attachments": {},
   "cell_type": "markdown",
   "metadata": {},
   "source": [
    "```\n",
    "3. 결정트리를 기반으로 하는 앙상블 학습기 3종류를 이용하여, \n",
    "정확도 / 정밀도 / 재현율을 구하세요.(20)\n",
    "```"
   ]
  },
  {
   "cell_type": "code",
   "execution_count": 115,
   "metadata": {},
   "outputs": [],
   "source": [
    "from sklearn.metrics import accuracy_score, precision_score, recall_score\n",
    "import warnings\n",
    "warnings.filterwarnings(('ignore'))"
   ]
  },
  {
   "cell_type": "code",
   "execution_count": 116,
   "metadata": {},
   "outputs": [],
   "source": [
    "# Bagging (Bootstrap Aggregating)\n",
    "from sklearn.ensemble import RandomForestClassifier\n",
    "rfc = RandomForestClassifier(random_state=2023)\n",
    "rfc.fit(X_train, y_train)\n",
    "rfc.score(X_test, y_test)\n",
    "pred_rfc = rfc.predict(X_test)"
   ]
  },
  {
   "cell_type": "code",
   "execution_count": 117,
   "metadata": {},
   "outputs": [
    {
     "data": {
      "text/plain": [
       "array([[0.97, 0.03],\n",
       "       [0.22, 0.78],\n",
       "       [0.45, 0.55]])"
      ]
     },
     "execution_count": 117,
     "metadata": {},
     "output_type": "execute_result"
    }
   ],
   "source": [
    "rfc.predict_proba(X_test[:3])"
   ]
  },
  {
   "cell_type": "code",
   "execution_count": 118,
   "metadata": {},
   "outputs": [
    {
     "data": {
      "text/plain": [
       "(0.7272727272727273, 0.65, 0.48148148148148145)"
      ]
     },
     "execution_count": 118,
     "metadata": {},
     "output_type": "execute_result"
    }
   ],
   "source": [
    "accuracy_score(y_test, pred_rfc), precision_score(y_test, pred_rfc), recall_score(y_test, pred_rfc)"
   ]
  },
  {
   "cell_type": "code",
   "execution_count": 119,
   "metadata": {},
   "outputs": [
    {
     "data": {
      "text/plain": [
       "0.7402597402597403"
      ]
     },
     "execution_count": 119,
     "metadata": {},
     "output_type": "execute_result"
    }
   ],
   "source": [
    "# Boosting:  XGBoost\n",
    "from sklearn.preprocessing import StandardScaler\n",
    "df_std = StandardScaler().fit_transform(X)\n",
    "\n",
    "from sklearn.model_selection import train_test_split\n",
    "X_train, X_test, y_train, y_test = train_test_split(\n",
    "    df_std, y, stratify=y, test_size=0.2, random_state=2023\n",
    ")\n",
    "\n",
    "import xgboost\n",
    "from xgboost import XGBClassifier\n",
    "xgb = XGBClassifier()\n",
    "xgb.fit(X_train, y_train)\n",
    "pred_xgb = xgb.predict(X_test)\n",
    "xgb.score(X_test, y_test)"
   ]
  },
  {
   "cell_type": "code",
   "execution_count": 120,
   "metadata": {},
   "outputs": [
    {
     "data": {
      "text/plain": [
       "array([[0.98096657, 0.01903344],\n",
       "       [0.02669376, 0.97330624],\n",
       "       [0.88944924, 0.11055077]], dtype=float32)"
      ]
     },
     "execution_count": 120,
     "metadata": {},
     "output_type": "execute_result"
    }
   ],
   "source": [
    "xgb.predict_proba(X_test[:3])"
   ]
  },
  {
   "cell_type": "code",
   "execution_count": 121,
   "metadata": {},
   "outputs": [
    {
     "data": {
      "text/plain": [
       "(0.7402597402597403, 0.6458333333333334, 0.5740740740740741)"
      ]
     },
     "execution_count": 121,
     "metadata": {},
     "output_type": "execute_result"
    }
   ],
   "source": [
    "accuracy_score(y_test, pred_xgb), precision_score(y_test, pred_xgb), recall_score(y_test, pred_xgb)"
   ]
  },
  {
   "cell_type": "code",
   "execution_count": 122,
   "metadata": {},
   "outputs": [],
   "source": [
    "# lightgbm\n",
    "import lightgbm\n",
    "from lightgbm import LGBMClassifier\n",
    "lgb = LGBMClassifier()"
   ]
  },
  {
   "cell_type": "code",
   "execution_count": 123,
   "metadata": {},
   "outputs": [
    {
     "name": "stdout",
     "output_type": "stream",
     "text": [
      "[1]\tvalid_0's binary_logloss: 0.615506\n",
      "[2]\tvalid_0's binary_logloss: 0.5971\n",
      "[3]\tvalid_0's binary_logloss: 0.578737\n",
      "[4]\tvalid_0's binary_logloss: 0.563357\n",
      "[5]\tvalid_0's binary_logloss: 0.547289\n",
      "[6]\tvalid_0's binary_logloss: 0.536826\n",
      "[7]\tvalid_0's binary_logloss: 0.526478\n",
      "[8]\tvalid_0's binary_logloss: 0.5196\n",
      "[9]\tvalid_0's binary_logloss: 0.509382\n",
      "[10]\tvalid_0's binary_logloss: 0.502299\n",
      "[11]\tvalid_0's binary_logloss: 0.499422\n",
      "[12]\tvalid_0's binary_logloss: 0.49336\n",
      "[13]\tvalid_0's binary_logloss: 0.48997\n",
      "[14]\tvalid_0's binary_logloss: 0.489997\n",
      "[15]\tvalid_0's binary_logloss: 0.489147\n",
      "[16]\tvalid_0's binary_logloss: 0.488191\n",
      "[17]\tvalid_0's binary_logloss: 0.488111\n",
      "[18]\tvalid_0's binary_logloss: 0.488663\n",
      "[19]\tvalid_0's binary_logloss: 0.486831\n",
      "[20]\tvalid_0's binary_logloss: 0.485895\n",
      "[21]\tvalid_0's binary_logloss: 0.486498\n",
      "[22]\tvalid_0's binary_logloss: 0.486552\n",
      "[23]\tvalid_0's binary_logloss: 0.489444\n",
      "[24]\tvalid_0's binary_logloss: 0.489001\n",
      "[25]\tvalid_0's binary_logloss: 0.487257\n",
      "[26]\tvalid_0's binary_logloss: 0.48649\n",
      "[27]\tvalid_0's binary_logloss: 0.48847\n",
      "[28]\tvalid_0's binary_logloss: 0.489541\n",
      "[29]\tvalid_0's binary_logloss: 0.490324\n",
      "[30]\tvalid_0's binary_logloss: 0.493912\n",
      "[31]\tvalid_0's binary_logloss: 0.494705\n",
      "[32]\tvalid_0's binary_logloss: 0.495311\n",
      "[33]\tvalid_0's binary_logloss: 0.494954\n",
      "[34]\tvalid_0's binary_logloss: 0.495417\n",
      "[35]\tvalid_0's binary_logloss: 0.496721\n",
      "[36]\tvalid_0's binary_logloss: 0.500878\n",
      "[37]\tvalid_0's binary_logloss: 0.502091\n",
      "[38]\tvalid_0's binary_logloss: 0.50579\n",
      "[39]\tvalid_0's binary_logloss: 0.510082\n",
      "[40]\tvalid_0's binary_logloss: 0.512586\n",
      "[41]\tvalid_0's binary_logloss: 0.514559\n",
      "[42]\tvalid_0's binary_logloss: 0.516289\n",
      "[43]\tvalid_0's binary_logloss: 0.519002\n",
      "[44]\tvalid_0's binary_logloss: 0.518242\n",
      "[45]\tvalid_0's binary_logloss: 0.519421\n",
      "[46]\tvalid_0's binary_logloss: 0.52457\n",
      "[47]\tvalid_0's binary_logloss: 0.526539\n",
      "[48]\tvalid_0's binary_logloss: 0.53039\n",
      "[49]\tvalid_0's binary_logloss: 0.530555\n",
      "[50]\tvalid_0's binary_logloss: 0.529441\n",
      "[51]\tvalid_0's binary_logloss: 0.533307\n",
      "[52]\tvalid_0's binary_logloss: 0.534392\n",
      "[53]\tvalid_0's binary_logloss: 0.536525\n",
      "[54]\tvalid_0's binary_logloss: 0.536701\n",
      "[55]\tvalid_0's binary_logloss: 0.539589\n",
      "[56]\tvalid_0's binary_logloss: 0.540676\n",
      "[57]\tvalid_0's binary_logloss: 0.542245\n",
      "[58]\tvalid_0's binary_logloss: 0.543982\n",
      "[59]\tvalid_0's binary_logloss: 0.547611\n",
      "[60]\tvalid_0's binary_logloss: 0.549852\n",
      "[61]\tvalid_0's binary_logloss: 0.551982\n",
      "[62]\tvalid_0's binary_logloss: 0.554331\n",
      "[63]\tvalid_0's binary_logloss: 0.556953\n",
      "[64]\tvalid_0's binary_logloss: 0.560301\n",
      "[65]\tvalid_0's binary_logloss: 0.563599\n",
      "[66]\tvalid_0's binary_logloss: 0.561126\n",
      "[67]\tvalid_0's binary_logloss: 0.564023\n",
      "[68]\tvalid_0's binary_logloss: 0.563165\n",
      "[69]\tvalid_0's binary_logloss: 0.56642\n",
      "[70]\tvalid_0's binary_logloss: 0.565345\n",
      "[71]\tvalid_0's binary_logloss: 0.570402\n",
      "[72]\tvalid_0's binary_logloss: 0.57444\n",
      "[73]\tvalid_0's binary_logloss: 0.576695\n",
      "[74]\tvalid_0's binary_logloss: 0.580703\n",
      "[75]\tvalid_0's binary_logloss: 0.581957\n",
      "[76]\tvalid_0's binary_logloss: 0.584001\n",
      "[77]\tvalid_0's binary_logloss: 0.587944\n",
      "[78]\tvalid_0's binary_logloss: 0.591669\n",
      "[79]\tvalid_0's binary_logloss: 0.593044\n",
      "[80]\tvalid_0's binary_logloss: 0.593611\n",
      "[81]\tvalid_0's binary_logloss: 0.594717\n",
      "[82]\tvalid_0's binary_logloss: 0.598727\n",
      "[83]\tvalid_0's binary_logloss: 0.603737\n",
      "[84]\tvalid_0's binary_logloss: 0.604265\n",
      "[85]\tvalid_0's binary_logloss: 0.609364\n",
      "[86]\tvalid_0's binary_logloss: 0.609854\n",
      "[87]\tvalid_0's binary_logloss: 0.617266\n",
      "[88]\tvalid_0's binary_logloss: 0.623353\n",
      "[89]\tvalid_0's binary_logloss: 0.624979\n",
      "[90]\tvalid_0's binary_logloss: 0.62719\n",
      "[91]\tvalid_0's binary_logloss: 0.628424\n",
      "[92]\tvalid_0's binary_logloss: 0.630598\n",
      "[93]\tvalid_0's binary_logloss: 0.633639\n",
      "[94]\tvalid_0's binary_logloss: 0.634996\n",
      "[95]\tvalid_0's binary_logloss: 0.640619\n",
      "[96]\tvalid_0's binary_logloss: 0.645453\n",
      "[97]\tvalid_0's binary_logloss: 0.645133\n",
      "[98]\tvalid_0's binary_logloss: 0.647848\n",
      "[99]\tvalid_0's binary_logloss: 0.649713\n",
      "[100]\tvalid_0's binary_logloss: 0.655689\n"
     ]
    },
    {
     "data": {
      "text/html": [
       "<style>#sk-container-id-5 {color: black;background-color: white;}#sk-container-id-5 pre{padding: 0;}#sk-container-id-5 div.sk-toggleable {background-color: white;}#sk-container-id-5 label.sk-toggleable__label {cursor: pointer;display: block;width: 100%;margin-bottom: 0;padding: 0.3em;box-sizing: border-box;text-align: center;}#sk-container-id-5 label.sk-toggleable__label-arrow:before {content: \"▸\";float: left;margin-right: 0.25em;color: #696969;}#sk-container-id-5 label.sk-toggleable__label-arrow:hover:before {color: black;}#sk-container-id-5 div.sk-estimator:hover label.sk-toggleable__label-arrow:before {color: black;}#sk-container-id-5 div.sk-toggleable__content {max-height: 0;max-width: 0;overflow: hidden;text-align: left;background-color: #f0f8ff;}#sk-container-id-5 div.sk-toggleable__content pre {margin: 0.2em;color: black;border-radius: 0.25em;background-color: #f0f8ff;}#sk-container-id-5 input.sk-toggleable__control:checked~div.sk-toggleable__content {max-height: 200px;max-width: 100%;overflow: auto;}#sk-container-id-5 input.sk-toggleable__control:checked~label.sk-toggleable__label-arrow:before {content: \"▾\";}#sk-container-id-5 div.sk-estimator input.sk-toggleable__control:checked~label.sk-toggleable__label {background-color: #d4ebff;}#sk-container-id-5 div.sk-label input.sk-toggleable__control:checked~label.sk-toggleable__label {background-color: #d4ebff;}#sk-container-id-5 input.sk-hidden--visually {border: 0;clip: rect(1px 1px 1px 1px);clip: rect(1px, 1px, 1px, 1px);height: 1px;margin: -1px;overflow: hidden;padding: 0;position: absolute;width: 1px;}#sk-container-id-5 div.sk-estimator {font-family: monospace;background-color: #f0f8ff;border: 1px dotted black;border-radius: 0.25em;box-sizing: border-box;margin-bottom: 0.5em;}#sk-container-id-5 div.sk-estimator:hover {background-color: #d4ebff;}#sk-container-id-5 div.sk-parallel-item::after {content: \"\";width: 100%;border-bottom: 1px solid gray;flex-grow: 1;}#sk-container-id-5 div.sk-label:hover label.sk-toggleable__label {background-color: #d4ebff;}#sk-container-id-5 div.sk-serial::before {content: \"\";position: absolute;border-left: 1px solid gray;box-sizing: border-box;top: 0;bottom: 0;left: 50%;z-index: 0;}#sk-container-id-5 div.sk-serial {display: flex;flex-direction: column;align-items: center;background-color: white;padding-right: 0.2em;padding-left: 0.2em;position: relative;}#sk-container-id-5 div.sk-item {position: relative;z-index: 1;}#sk-container-id-5 div.sk-parallel {display: flex;align-items: stretch;justify-content: center;background-color: white;position: relative;}#sk-container-id-5 div.sk-item::before, #sk-container-id-5 div.sk-parallel-item::before {content: \"\";position: absolute;border-left: 1px solid gray;box-sizing: border-box;top: 0;bottom: 0;left: 50%;z-index: -1;}#sk-container-id-5 div.sk-parallel-item {display: flex;flex-direction: column;z-index: 1;position: relative;background-color: white;}#sk-container-id-5 div.sk-parallel-item:first-child::after {align-self: flex-end;width: 50%;}#sk-container-id-5 div.sk-parallel-item:last-child::after {align-self: flex-start;width: 50%;}#sk-container-id-5 div.sk-parallel-item:only-child::after {width: 0;}#sk-container-id-5 div.sk-dashed-wrapped {border: 1px dashed gray;margin: 0 0.4em 0.5em 0.4em;box-sizing: border-box;padding-bottom: 0.4em;background-color: white;}#sk-container-id-5 div.sk-label label {font-family: monospace;font-weight: bold;display: inline-block;line-height: 1.2em;}#sk-container-id-5 div.sk-label-container {text-align: center;}#sk-container-id-5 div.sk-container {/* jupyter's `normalize.less` sets `[hidden] { display: none; }` but bootstrap.min.css set `[hidden] { display: none !important; }` so we also need the `!important` here to be able to override the default hidden behavior on the sphinx rendered scikit-learn.org. See: https://github.com/scikit-learn/scikit-learn/issues/21755 */display: inline-block !important;position: relative;}#sk-container-id-5 div.sk-text-repr-fallback {display: none;}</style><div id=\"sk-container-id-5\" class=\"sk-top-container\"><div class=\"sk-text-repr-fallback\"><pre>LGBMClassifier()</pre><b>In a Jupyter environment, please rerun this cell to show the HTML representation or trust the notebook. <br />On GitHub, the HTML representation is unable to render, please try loading this page with nbviewer.org.</b></div><div class=\"sk-container\" hidden><div class=\"sk-item\"><div class=\"sk-estimator sk-toggleable\"><input class=\"sk-toggleable__control sk-hidden--visually\" id=\"sk-estimator-id-5\" type=\"checkbox\" checked><label for=\"sk-estimator-id-5\" class=\"sk-toggleable__label sk-toggleable__label-arrow\">LGBMClassifier</label><div class=\"sk-toggleable__content\"><pre>LGBMClassifier()</pre></div></div></div></div></div>"
      ],
      "text/plain": [
       "LGBMClassifier()"
      ]
     },
     "execution_count": 123,
     "metadata": {},
     "output_type": "execute_result"
    }
   ],
   "source": [
    "evals = [(X_test, y_test)]\n",
    "lgb.fit(X_train, y_train, eval_set=evals, eval_metric='logloss', verbose=True)"
   ]
  },
  {
   "cell_type": "code",
   "execution_count": 124,
   "metadata": {},
   "outputs": [
    {
     "data": {
      "text/plain": [
       "0.7142857142857143"
      ]
     },
     "execution_count": 124,
     "metadata": {},
     "output_type": "execute_result"
    }
   ],
   "source": [
    "lgb.score(X_test, y_test)"
   ]
  },
  {
   "cell_type": "code",
   "execution_count": 125,
   "metadata": {},
   "outputs": [],
   "source": [
    "pred_lgb = lgb.predict(X_test)"
   ]
  },
  {
   "cell_type": "code",
   "execution_count": 126,
   "metadata": {},
   "outputs": [
    {
     "data": {
      "text/plain": [
       "(0.7142857142857143, 0.6, 0.5555555555555556)"
      ]
     },
     "execution_count": 126,
     "metadata": {},
     "output_type": "execute_result"
    }
   ],
   "source": [
    "accuracy_score(y_test, pred_lgb), precision_score(y_test, pred_lgb), recall_score(y_test, pred_lgb)"
   ]
  }
 ],
 "metadata": {
  "kernelspec": {
   "display_name": "base",
   "language": "python",
   "name": "python3"
  },
  "language_info": {
   "codemirror_mode": {
    "name": "ipython",
    "version": 3
   },
   "file_extension": ".py",
   "mimetype": "text/x-python",
   "name": "python",
   "nbconvert_exporter": "python",
   "pygments_lexer": "ipython3",
   "version": "3.10.10"
  },
  "orig_nbformat": 4
 },
 "nbformat": 4,
 "nbformat_minor": 2
}
