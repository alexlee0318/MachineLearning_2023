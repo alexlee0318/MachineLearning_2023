{
  "nbformat": 4,
  "nbformat_minor": 0,
  "metadata": {
    "colab": {
      "provenance": []
    },
    "kernelspec": {
      "name": "python3",
      "display_name": "Python 3"
    },
    "language_info": {
      "name": "python"
    }
  },
  "cells": [
    {
      "cell_type": "markdown",
      "source": [
        "### 컨텐츠 기반 필터링(Contents-based filtering)"
      ],
      "metadata": {
        "id": "WSi-c71Q-bAE"
      }
    },
    {
      "cell_type": "code",
      "execution_count": 1,
      "metadata": {
        "colab": {
          "base_uri": "https://localhost:8080/"
        },
        "id": "42HB17f2-E8o",
        "outputId": "9dedf8d9-7b18-4210-cefe-e2f76bf00ce2"
      },
      "outputs": [
        {
          "output_type": "stream",
          "name": "stdout",
          "text": [
            "Looking in indexes: https://pypi.org/simple, https://us-python.pkg.dev/colab-wheels/public/simple/\n",
            "Requirement already satisfied: scikit-surprise in /usr/local/lib/python3.10/dist-packages (1.1.3)\n",
            "Requirement already satisfied: joblib>=1.0.0 in /usr/local/lib/python3.10/dist-packages (from scikit-surprise) (1.2.0)\n",
            "Requirement already satisfied: numpy>=1.17.3 in /usr/local/lib/python3.10/dist-packages (from scikit-surprise) (1.22.4)\n",
            "Requirement already satisfied: scipy>=1.3.2 in /usr/local/lib/python3.10/dist-packages (from scikit-surprise) (1.10.1)\n"
          ]
        }
      ],
      "source": [
        "# 라이브러리 설치\n",
        "!pip install scikit-surprise"
      ]
    },
    {
      "cell_type": "code",
      "source": [
        "import numpy as np\n",
        "import pandas as pd\n",
        "from surprise import Dataset"
      ],
      "metadata": {
        "id": "VaGimCu4-y42"
      },
      "execution_count": 2,
      "outputs": []
    },
    {
      "cell_type": "code",
      "source": [
        "data = Dataset.load_builtin('ml-100k', prompt=False)\n",
        "df = pd.DataFrame(data.raw_ratings, columns=['user-id','movie-id','rating','timestamp'])\n",
        "df.head()"
      ],
      "metadata": {
        "colab": {
          "base_uri": "https://localhost:8080/",
          "height": 206
        },
        "id": "xGIPtPRz_RKv",
        "outputId": "092a203a-10fe-43b0-ce4f-a291a3ae4921"
      },
      "execution_count": 3,
      "outputs": [
        {
          "output_type": "execute_result",
          "data": {
            "text/plain": [
              "  user-id movie-id  rating  timestamp\n",
              "0     196      242     3.0  881250949\n",
              "1     186      302     3.0  891717742\n",
              "2      22      377     1.0  878887116\n",
              "3     244       51     2.0  880606923\n",
              "4     166      346     1.0  886397596"
            ],
            "text/html": [
              "\n",
              "  <div id=\"df-4a7fdca1-6aac-4d2f-879c-3bf53e681e3c\">\n",
              "    <div class=\"colab-df-container\">\n",
              "      <div>\n",
              "<style scoped>\n",
              "    .dataframe tbody tr th:only-of-type {\n",
              "        vertical-align: middle;\n",
              "    }\n",
              "\n",
              "    .dataframe tbody tr th {\n",
              "        vertical-align: top;\n",
              "    }\n",
              "\n",
              "    .dataframe thead th {\n",
              "        text-align: right;\n",
              "    }\n",
              "</style>\n",
              "<table border=\"1\" class=\"dataframe\">\n",
              "  <thead>\n",
              "    <tr style=\"text-align: right;\">\n",
              "      <th></th>\n",
              "      <th>user-id</th>\n",
              "      <th>movie-id</th>\n",
              "      <th>rating</th>\n",
              "      <th>timestamp</th>\n",
              "    </tr>\n",
              "  </thead>\n",
              "  <tbody>\n",
              "    <tr>\n",
              "      <th>0</th>\n",
              "      <td>196</td>\n",
              "      <td>242</td>\n",
              "      <td>3.0</td>\n",
              "      <td>881250949</td>\n",
              "    </tr>\n",
              "    <tr>\n",
              "      <th>1</th>\n",
              "      <td>186</td>\n",
              "      <td>302</td>\n",
              "      <td>3.0</td>\n",
              "      <td>891717742</td>\n",
              "    </tr>\n",
              "    <tr>\n",
              "      <th>2</th>\n",
              "      <td>22</td>\n",
              "      <td>377</td>\n",
              "      <td>1.0</td>\n",
              "      <td>878887116</td>\n",
              "    </tr>\n",
              "    <tr>\n",
              "      <th>3</th>\n",
              "      <td>244</td>\n",
              "      <td>51</td>\n",
              "      <td>2.0</td>\n",
              "      <td>880606923</td>\n",
              "    </tr>\n",
              "    <tr>\n",
              "      <th>4</th>\n",
              "      <td>166</td>\n",
              "      <td>346</td>\n",
              "      <td>1.0</td>\n",
              "      <td>886397596</td>\n",
              "    </tr>\n",
              "  </tbody>\n",
              "</table>\n",
              "</div>\n",
              "      <button class=\"colab-df-convert\" onclick=\"convertToInteractive('df-4a7fdca1-6aac-4d2f-879c-3bf53e681e3c')\"\n",
              "              title=\"Convert this dataframe to an interactive table.\"\n",
              "              style=\"display:none;\">\n",
              "        \n",
              "  <svg xmlns=\"http://www.w3.org/2000/svg\" height=\"24px\"viewBox=\"0 0 24 24\"\n",
              "       width=\"24px\">\n",
              "    <path d=\"M0 0h24v24H0V0z\" fill=\"none\"/>\n",
              "    <path d=\"M18.56 5.44l.94 2.06.94-2.06 2.06-.94-2.06-.94-.94-2.06-.94 2.06-2.06.94zm-11 1L8.5 8.5l.94-2.06 2.06-.94-2.06-.94L8.5 2.5l-.94 2.06-2.06.94zm10 10l.94 2.06.94-2.06 2.06-.94-2.06-.94-.94-2.06-.94 2.06-2.06.94z\"/><path d=\"M17.41 7.96l-1.37-1.37c-.4-.4-.92-.59-1.43-.59-.52 0-1.04.2-1.43.59L10.3 9.45l-7.72 7.72c-.78.78-.78 2.05 0 2.83L4 21.41c.39.39.9.59 1.41.59.51 0 1.02-.2 1.41-.59l7.78-7.78 2.81-2.81c.8-.78.8-2.07 0-2.86zM5.41 20L4 18.59l7.72-7.72 1.47 1.35L5.41 20z\"/>\n",
              "  </svg>\n",
              "      </button>\n",
              "      \n",
              "  <style>\n",
              "    .colab-df-container {\n",
              "      display:flex;\n",
              "      flex-wrap:wrap;\n",
              "      gap: 12px;\n",
              "    }\n",
              "\n",
              "    .colab-df-convert {\n",
              "      background-color: #E8F0FE;\n",
              "      border: none;\n",
              "      border-radius: 50%;\n",
              "      cursor: pointer;\n",
              "      display: none;\n",
              "      fill: #1967D2;\n",
              "      height: 32px;\n",
              "      padding: 0 0 0 0;\n",
              "      width: 32px;\n",
              "    }\n",
              "\n",
              "    .colab-df-convert:hover {\n",
              "      background-color: #E2EBFA;\n",
              "      box-shadow: 0px 1px 2px rgba(60, 64, 67, 0.3), 0px 1px 3px 1px rgba(60, 64, 67, 0.15);\n",
              "      fill: #174EA6;\n",
              "    }\n",
              "\n",
              "    [theme=dark] .colab-df-convert {\n",
              "      background-color: #3B4455;\n",
              "      fill: #D2E3FC;\n",
              "    }\n",
              "\n",
              "    [theme=dark] .colab-df-convert:hover {\n",
              "      background-color: #434B5C;\n",
              "      box-shadow: 0px 1px 3px 1px rgba(0, 0, 0, 0.15);\n",
              "      filter: drop-shadow(0px 1px 2px rgba(0, 0, 0, 0.3));\n",
              "      fill: #FFFFFF;\n",
              "    }\n",
              "  </style>\n",
              "\n",
              "      <script>\n",
              "        const buttonEl =\n",
              "          document.querySelector('#df-4a7fdca1-6aac-4d2f-879c-3bf53e681e3c button.colab-df-convert');\n",
              "        buttonEl.style.display =\n",
              "          google.colab.kernel.accessAllowed ? 'block' : 'none';\n",
              "\n",
              "        async function convertToInteractive(key) {\n",
              "          const element = document.querySelector('#df-4a7fdca1-6aac-4d2f-879c-3bf53e681e3c');\n",
              "          const dataTable =\n",
              "            await google.colab.kernel.invokeFunction('convertToInteractive',\n",
              "                                                     [key], {});\n",
              "          if (!dataTable) return;\n",
              "\n",
              "          const docLinkHtml = 'Like what you see? Visit the ' +\n",
              "            '<a target=\"_blank\" href=https://colab.research.google.com/notebooks/data_table.ipynb>data table notebook</a>'\n",
              "            + ' to learn more about interactive tables.';\n",
              "          element.innerHTML = '';\n",
              "          dataTable['output_type'] = 'display_data';\n",
              "          await google.colab.output.renderOutput(dataTable, element);\n",
              "          const docLink = document.createElement('div');\n",
              "          docLink.innerHTML = docLinkHtml;\n",
              "          element.appendChild(docLink);\n",
              "        }\n",
              "      </script>\n",
              "    </div>\n",
              "  </div>\n",
              "  "
            ]
          },
          "metadata": {},
          "execution_count": 3
        }
      ]
    },
    {
      "cell_type": "code",
      "source": [
        "df.shape, df['user-id'].nunique(), df['movie-id'].nunique()"
      ],
      "metadata": {
        "colab": {
          "base_uri": "https://localhost:8080/"
        },
        "id": "0TfF5-zy_vvX",
        "outputId": "e877a8e8-76ed-4efe-e2a3-b061c8e2b449"
      },
      "execution_count": 4,
      "outputs": [
        {
          "output_type": "execute_result",
          "data": {
            "text/plain": [
              "((100000, 4), 943, 1682)"
            ]
          },
          "metadata": {},
          "execution_count": 4
        }
      ]
    },
    {
      "cell_type": "markdown",
      "source": [
        "#### 1. Adjacent Matrix 생성\n",
        "- 행: 사용자 id\n",
        "- 열: 영화 id\n",
        "- 내용: 평점"
      ],
      "metadata": {
        "id": "AqAr3xeDAwTf"
      }
    },
    {
      "cell_type": "code",
      "source": [
        "raw_data = np.array(data.raw_ratings, dtype=int)\n",
        "np.min(raw_data, axis=0)"
      ],
      "metadata": {
        "colab": {
          "base_uri": "https://localhost:8080/"
        },
        "id": "uUbFSNVPAJLW",
        "outputId": "bfaa3934-a3b3-40d7-bf49-b83ef89d0f99"
      },
      "execution_count": 5,
      "outputs": [
        {
          "output_type": "execute_result",
          "data": {
            "text/plain": [
              "array([        1,         1,         1, 874724710])"
            ]
          },
          "metadata": {},
          "execution_count": 5
        }
      ]
    },
    {
      "cell_type": "code",
      "source": [
        "# user-id, movie-id가 0부터 시작하도록 만들어 줌, 평점은 int로 변환\n",
        "raw_data[:,:2] -= 1\n",
        "raw_data[:5]"
      ],
      "metadata": {
        "colab": {
          "base_uri": "https://localhost:8080/"
        },
        "id": "FPXBTpakBXYg",
        "outputId": "b474119c-fbab-4ada-a3dc-6a48aa48e991"
      },
      "execution_count": 6,
      "outputs": [
        {
          "output_type": "execute_result",
          "data": {
            "text/plain": [
              "array([[      195,       241,         3, 881250949],\n",
              "       [      185,       301,         3, 891717742],\n",
              "       [       21,       376,         1, 878887116],\n",
              "       [      243,        50,         2, 880606923],\n",
              "       [      165,       345,         1, 886397596]])"
            ]
          },
          "metadata": {},
          "execution_count": 6
        }
      ]
    },
    {
      "cell_type": "markdown",
      "source": [
        "\n",
        "\n",
        "---\n",
        "\n",
        "\n",
        "#### 1) 본 영화=1, 안 본 영화=0 으로만 구분\n",
        "\n",
        "\n",
        "---\n",
        "\n",
        "\n",
        "\n",
        "---\n",
        "\n"
      ],
      "metadata": {
        "id": "k36mWqiqCQmY"
      }
    },
    {
      "cell_type": "code",
      "source": [
        "nrows = df['user-id'].nunique()\n",
        "ncols = df['movie-id'].nunique()\n",
        "adj_matrix = np.zeros([nrows, ncols], dtype=int)\n",
        "for user_id, movie_id, _, _ in raw_data:\n",
        "    adj_matrix[user_id, movie_id] = 1\n",
        "adj_matrix[:5]  # col : 영화 수(1682개), row: 사용자 수(943)"
      ],
      "metadata": {
        "colab": {
          "base_uri": "https://localhost:8080/"
        },
        "id": "xVU2My_HCYC-",
        "outputId": "f863135b-9bbd-4fcb-dfdd-a84e645f1a2c"
      },
      "execution_count": 7,
      "outputs": [
        {
          "output_type": "execute_result",
          "data": {
            "text/plain": [
              "array([[1, 1, 1, ..., 0, 0, 0],\n",
              "       [1, 0, 0, ..., 0, 0, 0],\n",
              "       [0, 0, 0, ..., 0, 0, 0],\n",
              "       [0, 0, 0, ..., 0, 0, 0],\n",
              "       [1, 1, 0, ..., 0, 0, 0]])"
            ]
          },
          "metadata": {},
          "execution_count": 7
        }
      ]
    },
    {
      "cell_type": "code",
      "source": [
        "# 0 번 데이터를 '나'로 가정\n",
        "my_id, my_vector = 0, adj_matrix[0]"
      ],
      "metadata": {
        "id": "-ForZj_8C0C7"
      },
      "execution_count": 8,
      "outputs": []
    },
    {
      "cell_type": "code",
      "source": [
        "# 유사도 - 이진 벡터의 내적(나1*상대1=1 , 나0*상대1=0 )\n",
        "# 나와 10, 20번 사용자의 유사도 구하기\n",
        "np.dot(my_vector, adj_matrix[10]), np.dot(my_vector, adj_matrix[20])"
      ],
      "metadata": {
        "colab": {
          "base_uri": "https://localhost:8080/"
        },
        "id": "JFzViC0LEEdK",
        "outputId": "00fd0e6e-57a7-4928-a056-b6feda90c344"
      },
      "execution_count": 9,
      "outputs": [
        {
          "output_type": "execute_result",
          "data": {
            "text/plain": [
              "(71, 42)"
            ]
          },
          "metadata": {},
          "execution_count": 9
        }
      ]
    },
    {
      "cell_type": "code",
      "source": [
        "# 누가 나랑 가장 닮았나?\n",
        "best_score, best_match_id = 0, 0\n",
        "# 최대값 구하기(유사도의 best score)\n",
        "for i in range(1, len(adj_matrix)):\n",
        "    dot = np.dot(my_vector, adj_matrix[i])\n",
        "    if dot > best_score:\n",
        "        best_score, best_match_id = dot, i\n",
        "\n",
        "best_score, best_match_id   # 183편, 275번user"
      ],
      "metadata": {
        "colab": {
          "base_uri": "https://localhost:8080/"
        },
        "id": "lF8wj1lwFGB6",
        "outputId": "617341ed-e2ef-4abf-c718-66208158071b"
      },
      "execution_count": 10,
      "outputs": [
        {
          "output_type": "execute_result",
          "data": {
            "text/plain": [
              "(183, 275)"
            ]
          },
          "metadata": {},
          "execution_count": 10
        }
      ]
    },
    {
      "cell_type": "code",
      "source": [
        "# 내가 본 영화 개수, 가장 닮은 사람이 본 영화 개수\n",
        "my_vector.sum(), adj_matrix[best_match_id].sum()  # 나272편, user518편"
      ],
      "metadata": {
        "colab": {
          "base_uri": "https://localhost:8080/"
        },
        "id": "CvDC4MRNIR2T",
        "outputId": "6478ccf8-032b-45e9-9d94-038c4068688a"
      },
      "execution_count": 11,
      "outputs": [
        {
          "output_type": "execute_result",
          "data": {
            "text/plain": [
              "(272, 518)"
            ]
          },
          "metadata": {},
          "execution_count": 11
        }
      ]
    },
    {
      "cell_type": "code",
      "source": [
        "################### 추천 ###########################\n",
        "# 내가 보지 않은 영화 중, 가장 닮은 사람이 본 영화\n",
        "recommend_list = []\n",
        "best_vector = adj_matrix[best_match_id]\n",
        "for i in range(len(my_vector)):\n",
        "    if my_vector[i] == 0 and best_vector[i] == 1:\n",
        "        recommend_list.append(i)\n",
        "len(recommend_list), recommend_list[:10]"
      ],
      "metadata": {
        "colab": {
          "base_uri": "https://localhost:8080/"
        },
        "id": "bBWcVtE8I4Pb",
        "outputId": "b8c94318-ef75-4b2d-b4d2-1029def2d0fd"
      },
      "execution_count": 12,
      "outputs": [
        {
          "output_type": "execute_result",
          "data": {
            "text/plain": [
              "(335, [272, 273, 275, 280, 281, 283, 287, 288, 289, 290])"
            ]
          },
          "metadata": {},
          "execution_count": 12
        }
      ]
    },
    {
      "cell_type": "markdown",
      "source": [
        "\n",
        "\n",
        "---\n",
        "\n",
        "\n",
        "#### 2) 평점 점수를 주는 경우\n",
        "\n",
        "\n",
        "---\n",
        "\n",
        "\n",
        "\n",
        "---\n",
        "\n"
      ],
      "metadata": {
        "id": "SfXdW-rVKP0r"
      }
    },
    {
      "cell_type": "code",
      "source": [
        "adj_matrix = np.zeros([nrows, ncols], dtype=int)\n",
        "for user_id, movie_id, rating, _ in raw_data:\n",
        "    adj_matrix[user_id, movie_id] = rating\n",
        "adj_matrix[:5]"
      ],
      "metadata": {
        "colab": {
          "base_uri": "https://localhost:8080/"
        },
        "id": "k7CN2TVAJ0PF",
        "outputId": "fb3a3286-4ca7-453c-89c7-94fb3594bd9a"
      },
      "execution_count": 13,
      "outputs": [
        {
          "output_type": "execute_result",
          "data": {
            "text/plain": [
              "array([[5, 3, 4, ..., 0, 0, 0],\n",
              "       [4, 0, 0, ..., 0, 0, 0],\n",
              "       [0, 0, 0, ..., 0, 0, 0],\n",
              "       [0, 0, 0, ..., 0, 0, 0],\n",
              "       [4, 3, 0, ..., 0, 0, 0]])"
            ]
          },
          "metadata": {},
          "execution_count": 13
        }
      ]
    },
    {
      "cell_type": "markdown",
      "source": [
        "- Case 1) 유클리드 거리"
      ],
      "metadata": {
        "id": "sXzyVlfHLquk"
      }
    },
    {
      "cell_type": "code",
      "source": [
        "# 누가 '나'와 가장 닮았나? -- 최소값이 작은사람\n",
        "best_score, best_match_id = 10000000, 0\n",
        "my_vector = adj_matrix[0]\n",
        "\n",
        "for i in range(1, len(adj_matrix)):\n",
        "    euc = np.sqrt(np.sum(np.square(my_vector - adj_matrix[i])))\n",
        "    if euc < best_score:\n",
        "        best_score, best_match_id = euc, i\n",
        "\n",
        "best_score, best_match_id"
      ],
      "metadata": {
        "colab": {
          "base_uri": "https://localhost:8080/"
        },
        "id": "PFeR4NWWKmZ9",
        "outputId": "11244759-b7da-4948-81ef-dbc63a95e761"
      },
      "execution_count": 14,
      "outputs": [
        {
          "output_type": "execute_result",
          "data": {
            "text/plain": [
              "(55.06359959174482, 737)"
            ]
          },
          "metadata": {},
          "execution_count": 14
        }
      ]
    },
    {
      "cell_type": "code",
      "source": [
        "################### 추천 ###########################\n",
        "# 내가 보지 않은 영화 중, 가장 닮은 사람이 본 영화 중, 평점이 4 이상인 영화\n",
        "recommend_list = []\n",
        "best_vector = adj_matrix[best_match_id]\n",
        "for i in range(len(my_vector)):\n",
        "    if my_vector[i] == 0 and best_vector[i]>= 4:\n",
        "        recommend_list.append(i)\n",
        "\n",
        "len(recommend_list), recommend_list[:10]"
      ],
      "metadata": {
        "colab": {
          "base_uri": "https://localhost:8080/"
        },
        "id": "FnInFbLXMKpf",
        "outputId": "0549374e-f955-4abb-f566-846e34384e0a"
      },
      "execution_count": 15,
      "outputs": [
        {
          "output_type": "execute_result",
          "data": {
            "text/plain": [
              "(21, [312, 317, 356, 384, 407, 422, 433, 454, 469, 473])"
            ]
          },
          "metadata": {},
          "execution_count": 15
        }
      ]
    },
    {
      "cell_type": "markdown",
      "source": [
        "- Case 2) 코사인 유사도"
      ],
      "metadata": {
        "id": "GoluPzLpN0I2"
      }
    },
    {
      "cell_type": "code",
      "source": [
        "# cosin유사도 정의하고 시작\n",
        "def cos_similarity(v1, v2):\n",
        "    v1_norm = np.sqrt(np.sum(np.square(v1)))\n",
        "    v2_norm = np.sqrt(np.sum(np.square(v2)))\n",
        "    return np.dot(v1, v2) / (v1_norm * v2_norm)"
      ],
      "metadata": {
        "id": "oR83d0MuN2mJ"
      },
      "execution_count": 16,
      "outputs": []
    },
    {
      "cell_type": "code",
      "source": [
        "# 누가 '나'와 가장 닮았나? -- Cosine similarity의 최대값\n",
        "best_score,best_match_id = -1, 0\n",
        "# my_vector는 똑같음\n",
        "for i in range(1,len(adj_matrix)):\n",
        "    sim =cos_similarity(my_vector, adj_matrix[i])\n",
        "    if sim > best_score:\n",
        "        best_score,best_match_id =sim ,i\n",
        "\n",
        "best_score,best_match_id "
      ],
      "metadata": {
        "colab": {
          "base_uri": "https://localhost:8080/"
        },
        "id": "Ipy3iqetNWJe",
        "outputId": "726bffa0-40b6-4aca-b2c3-fc7790d181f6"
      },
      "execution_count": 17,
      "outputs": [
        {
          "output_type": "execute_result",
          "data": {
            "text/plain": [
              "(0.569065731527988, 915)"
            ]
          },
          "metadata": {},
          "execution_count": 17
        }
      ]
    },
    {
      "cell_type": "code",
      "source": [
        "################### 추천 ###########################\n",
        "# 내가 보지 않은 영화 중, 가장 닮은 사람이 본 영화 중, 평점이 4 이상인 영화\n",
        "recommend_list = []\n",
        "best_vector = adj_matrix[best_match_id]\n",
        "for i in range(len(my_vector)):\n",
        "    if my_vector[i] == 0 and best_vector[i]>= 4:\n",
        "        recommend_list.append(i)\n",
        "\n",
        "len(recommend_list), recommend_list[:10]"
      ],
      "metadata": {
        "colab": {
          "base_uri": "https://localhost:8080/"
        },
        "id": "nPJVatOyO7l4",
        "outputId": "9a3ebf1f-7cec-44dd-ed58-75879ca0812c"
      },
      "execution_count": 18,
      "outputs": [
        {
          "output_type": "execute_result",
          "data": {
            "text/plain": [
              "(58, [275, 285, 316, 317, 381, 386, 420, 424, 426, 427])"
            ]
          },
          "metadata": {},
          "execution_count": 18
        }
      ]
    },
    {
      "cell_type": "code",
      "source": [],
      "metadata": {
        "id": "B_YUE3AoPFD1"
      },
      "execution_count": 18,
      "outputs": []
    }
  ]
}